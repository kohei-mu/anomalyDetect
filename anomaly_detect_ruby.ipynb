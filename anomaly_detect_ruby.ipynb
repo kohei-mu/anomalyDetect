{
 "cells": [
  {
   "cell_type": "markdown",
   "metadata": {},
   "source": [
    "## Contents\n",
    "\n",
    "#### Common\n",
    "* **[Library Import](#Library-Import)**\n",
    "* **[Data Import](#Data-Import)**\n",
    "\n",
    "#### Algorithm\n",
    "* **[Hotelling](#Hotelling)**\n",
    "* **[Change Finder](#Change-Finder)**\n",
    "* **[LOF](#LOF)**"
   ]
  },
  {
   "cell_type": "markdown",
   "metadata": {},
   "source": [
    "### Library Import"
   ]
  },
  {
   "cell_type": "code",
   "execution_count": 9,
   "metadata": {},
   "outputs": [
    {
     "name": "stderr",
     "output_type": "stream",
     "text": [
      "/var/lib/gems/2.5.0/gems/pycall-1.3.0.dev/lib/pycall/import.rb:88: warning: already initialized constant LocalOutlierFactor\n",
      "/var/lib/gems/2.5.0/gems/pycall-1.3.0.dev/lib/pycall/import.rb:88: warning: previous definition of LocalOutlierFactor was here\n"
     ]
    },
    {
     "data": {
      "text/plain": [
       "[\"LocalOutlierFactor\"]"
      ]
     },
     "execution_count": 9,
     "metadata": {},
     "output_type": "execute_result"
    }
   ],
   "source": [
    "require 'pycall'\n",
    "require 'pycall/import'\n",
    "include PyCall::Import\n",
    "require 'numpy'\n",
    "$np = Numpy\n",
    "require 'daru'\n",
    "require 'daru/plotly'\n",
    "require 'daru/dataframe'\n",
    "include Daru::Plotly::Methods\n",
    "$scipy = PyCall.import_module('scipy.stats')\n",
    "$cf = PyCall.import_module('changefinder')\n",
    "$plt = PyCall.import_module('matplotlib.pyplot')\n",
    "pyfrom 'sklearn.neighbors', import: 'LocalOutlierFactor'"
   ]
  },
  {
   "cell_type": "markdown",
   "metadata": {},
   "source": [
    "### Data Import"
   ]
  },
  {
   "cell_type": "code",
   "execution_count": 10,
   "metadata": {},
   "outputs": [
    {
     "data": {
      "text/html": [
       "<b> Daru::DataFrame(3x5) </b>\n",
       "<table border=\"1\" class=\"dataframe\">\n",
       "  <thead>\n",
       "  \n",
       "    <tr>\n",
       "      <th></th>\n",
       "      \n",
       "        <th>TimeStamp</th>\n",
       "      \n",
       "        <th>val0</th>\n",
       "      \n",
       "        <th>val1</th>\n",
       "      \n",
       "        <th>val2</th>\n",
       "      \n",
       "        <th>val3</th>\n",
       "      \n",
       "    </tr>\n",
       "  \n",
       "</thead>\n",
       "  <tbody>\n",
       "  \n",
       "    <tr>\n",
       "      <td>0</td>\n",
       "      \n",
       "        <td>2017-10-08 18:34:33</td>\n",
       "      \n",
       "        <td>8.8512018685</td>\n",
       "      \n",
       "        <td>7.33782933668</td>\n",
       "      \n",
       "        <td>9.178728925</td>\n",
       "      \n",
       "        <td>2.753579441</td>\n",
       "      \n",
       "    </tr>\n",
       "  \n",
       "    <tr>\n",
       "      <td>1</td>\n",
       "      \n",
       "        <td>2017-10-08 18:39:33</td>\n",
       "      \n",
       "        <td>-2.81190568617</td>\n",
       "      \n",
       "        <td>-2.3543534772</td>\n",
       "      \n",
       "        <td>-2.69658130798</td>\n",
       "      \n",
       "        <td>-1.68424473044</td>\n",
       "      \n",
       "    </tr>\n",
       "  \n",
       "    <tr>\n",
       "      <td>2</td>\n",
       "      \n",
       "        <td>2017-10-08 18:44:33</td>\n",
       "      \n",
       "        <td>0.177683537483</td>\n",
       "      \n",
       "        <td>-0.30614046055</td>\n",
       "      \n",
       "        <td>0.178235586618</td>\n",
       "      \n",
       "        <td>-0.185882889441</td>\n",
       "      \n",
       "    </tr>\n",
       "  \n",
       "\n",
       "  \n",
       "</tbody>\n",
       "</table>"
      ],
      "text/plain": [
       "#<Daru::DataFrame(3x5)>\n",
       "             TimeStamp       val0       val1       val2       val3\n",
       "          0 2017-10-08 8.85120186 7.33782933 9.17872892 2.75357944\n",
       "          1 2017-10-08 -2.8119056 -2.3543534 -2.6965813 -1.6842447\n",
       "          2 2017-10-08 0.17768353 -0.3061404 0.17823558 -0.1858828"
      ]
     },
     "execution_count": 10,
     "metadata": {},
     "output_type": "execute_result"
    }
   ],
   "source": [
    "data = Daru::DataFrame.from_csv('/mnt/d/data/anomalyDetect/toy.csv')\n",
    "data.head(3)"
   ]
  },
  {
   "cell_type": "markdown",
   "metadata": {},
   "source": [
    "### Hotelling"
   ]
  },
  {
   "cell_type": "code",
   "execution_count": 40,
   "metadata": {},
   "outputs": [
    {
     "data": {
      "text/plain": [
       ":hotelling_t2"
      ]
     },
     "execution_count": 40,
     "metadata": {},
     "output_type": "execute_result"
    }
   ],
   "source": [
    "def hotelling_t2(data)\n",
    "    result = Daru::DataFrame.new()\n",
    "    original = data['val0'].to_a\n",
    "    result['ORG'] = original\n",
    "\n",
    "    mean = $np.mean(original)\n",
    "    variance = $np.var(original)\n",
    "\n",
    "    anomaly_scores = []\n",
    "    for i in original do\n",
    "      anomaly_score = (i - mean)**2 / variance\n",
    "      anomaly_scores.push(anomaly_score)\n",
    "    end\n",
    "\n",
    "    threshold = $scipy.chi2(df=1).interval(alpha=0.99)[1]\n",
    "    thresholds = [threshold] * anomaly_scores.length\n",
    "\n",
    "    result['ANOM_SCORE'] = anomaly_scores\n",
    "    result['THR'] = thresholds\n",
    "\n",
    "    detected_points = []\n",
    "    for j in (0..anomaly_scores.length-1) do\n",
    "      anom_score = anomaly_scores[j].to_f\n",
    "      if anom_score >= threshold then\n",
    "          detected_points.push(original[j])\n",
    "      else\n",
    "          detected_points.push(nil)\n",
    "      end\n",
    "    end\n",
    "\n",
    "    result['DETECTED'] = detected_points\n",
    "\n",
    "    return result\n",
    "end"
   ]
  },
  {
   "cell_type": "code",
   "execution_count": 41,
   "metadata": {},
   "outputs": [
    {
     "data": {
      "text/html": [
       "<b> Daru::DataFrame(3x4) </b>\n",
       "<table border=\"1\" class=\"dataframe\">\n",
       "  <thead>\n",
       "  \n",
       "    <tr>\n",
       "      <th></th>\n",
       "      \n",
       "        <th>ORG</th>\n",
       "      \n",
       "        <th>ANOM_SCORE</th>\n",
       "      \n",
       "        <th>THR</th>\n",
       "      \n",
       "        <th>DETECTED</th>\n",
       "      \n",
       "    </tr>\n",
       "  \n",
       "</thead>\n",
       "  <tbody>\n",
       "  \n",
       "    <tr>\n",
       "      <td>0</td>\n",
       "      \n",
       "        <td>8.8512018685</td>\n",
       "      \n",
       "        <td>0.20350924564129932</td>\n",
       "      \n",
       "        <td>7.879438576622417</td>\n",
       "      \n",
       "        <td></td>\n",
       "      \n",
       "    </tr>\n",
       "  \n",
       "    <tr>\n",
       "      <td>1</td>\n",
       "      \n",
       "        <td>-2.81190568617</td>\n",
       "      \n",
       "        <td>0.07395455500329144</td>\n",
       "      \n",
       "        <td>7.879438576622417</td>\n",
       "      \n",
       "        <td></td>\n",
       "      \n",
       "    </tr>\n",
       "  \n",
       "    <tr>\n",
       "      <td>2</td>\n",
       "      \n",
       "        <td>0.177683537483</td>\n",
       "      \n",
       "        <td>0.007500137588489114</td>\n",
       "      \n",
       "        <td>7.879438576622417</td>\n",
       "      \n",
       "        <td></td>\n",
       "      \n",
       "    </tr>\n",
       "  \n",
       "\n",
       "  \n",
       "</tbody>\n",
       "</table>"
      ],
      "text/plain": [
       "#<Daru::DataFrame(3x4)>\n",
       "                   ORG ANOM_SCORE        THR   DETECTED\n",
       "          0 8.85120186 0.20350924 7.87943857        nil\n",
       "          1 -2.8119056 0.07395455 7.87943857        nil\n",
       "          2 0.17768353 0.00750013 7.87943857        nil"
      ]
     },
     "execution_count": 41,
     "metadata": {},
     "output_type": "execute_result"
    }
   ],
   "source": [
    "rst = hotelling_t2(data)\n",
    "rst.head(3)"
   ]
  },
  {
   "cell_type": "code",
   "execution_count": null,
   "metadata": {},
   "outputs": [],
   "source": [
    "anom = generate_data(rst['ANOM_SCORE'], type: :scatter, opts:{name:'anomaly score', marker:{color:'gray'}})\n",
    "thr = generate_data(rst['THR'], type: :scatter, opts:{name:'threshold', marker:{color:'red'}})\n",
    "\n",
    "Plotly::Plot.new(\n",
    "  data:anom+thr,\n",
    "  layout:{title:'Anomaly Score & Threshold', xaxis:{title:'time'},\n",
    "    yaxis:{title:'anomaly score'}}\n",
    ").show"
   ]
  },
  {
   "cell_type": "code",
   "execution_count": null,
   "metadata": {},
   "outputs": [],
   "source": [
    "org = generate_data(rst['ORG'], type: :scatter, opts:{name:'original', marker:{color:'gray'}})\n",
    "dtc = generate_data(rst['DETECTED'], type: :scatter, opts:{name:'detected', marker:{color:'red'}})\n",
    "\n",
    "Plotly::Plot.new(\n",
    "  data:org+dtc,\n",
    "  layout:{title:'Original & Detected', xaxis:{title:'time'},\n",
    "    yaxis:{title:'original'}}\n",
    ").show"
   ]
  },
  {
   "cell_type": "markdown",
   "metadata": {},
   "source": [
    "### Change Finder"
   ]
  },
  {
   "cell_type": "code",
   "execution_count": 49,
   "metadata": {},
   "outputs": [
    {
     "data": {
      "text/plain": [
       ":change_finder"
      ]
     },
     "execution_count": 49,
     "metadata": {},
     "output_type": "execute_result"
    }
   ],
   "source": [
    "def change_finder(data, param_r=0.001, param_order=1, param_smmoth=5)\n",
    "    original = data['val0']\n",
    "    model = $cf.ChangeFinder.(r=param_r, order=param_order, smooth=param_smmoth)\n",
    "\n",
    "    change_scores = []\n",
    "    for i in original do\n",
    "      score = model.update(i)\n",
    "      change_scores.push(score)\n",
    "    end\n",
    "\n",
    "    result = Daru::DataFrame.new()\n",
    "    result['ORG'] = original\n",
    "    result['CHG_SCORE'] = change_scores\n",
    "\n",
    "    ch_score_q1 = $scipy.stats.scoreatpercentile(change_scores, 25) \n",
    "    ch_score_q3 = $scipy.stats.scoreatpercentile(change_scores, 75) \n",
    "    iqr = ch_score_q3 - ch_score_q1\n",
    "    thr_upper = ch_score_q3 + iqr * 3\n",
    "    result['THR'] = [thr_upper] * original.to_a.length\n",
    "\n",
    "    detected_points = []\n",
    "    for j in (0..change_scores.length-1) do\n",
    "    if change_scores[j] > thr_upper then\n",
    "      detected_points.push(original[j])\n",
    "    else\n",
    "      detected_points.push(nil)\n",
    "    end\n",
    "    end\n",
    "\n",
    "    result['DETECTED'] = detected_points\n",
    "    return result\n",
    "end"
   ]
  },
  {
   "cell_type": "code",
   "execution_count": 50,
   "metadata": {},
   "outputs": [
    {
     "data": {
      "text/html": [
       "<b> Daru::DataFrame(3x4) </b>\n",
       "<table border=\"1\" class=\"dataframe\">\n",
       "  <thead>\n",
       "  \n",
       "    <tr>\n",
       "      <th></th>\n",
       "      \n",
       "        <th>ORG</th>\n",
       "      \n",
       "        <th>CHG_SCORE</th>\n",
       "      \n",
       "        <th>THR</th>\n",
       "      \n",
       "        <th>DETECTED</th>\n",
       "      \n",
       "    </tr>\n",
       "  \n",
       "</thead>\n",
       "  <tbody>\n",
       "  \n",
       "    <tr>\n",
       "      <td>0</td>\n",
       "      \n",
       "        <td>8.8512018685</td>\n",
       "      \n",
       "        <td>0.0</td>\n",
       "      \n",
       "        <td>56.44350829104731</td>\n",
       "      \n",
       "        <td></td>\n",
       "      \n",
       "    </tr>\n",
       "  \n",
       "    <tr>\n",
       "      <td>1</td>\n",
       "      \n",
       "        <td>-2.81190568617</td>\n",
       "      \n",
       "        <td>0.0</td>\n",
       "      \n",
       "        <td>56.44350829104731</td>\n",
       "      \n",
       "        <td></td>\n",
       "      \n",
       "    </tr>\n",
       "  \n",
       "    <tr>\n",
       "      <td>2</td>\n",
       "      \n",
       "        <td>0.177683537483</td>\n",
       "      \n",
       "        <td>0.0</td>\n",
       "      \n",
       "        <td>56.44350829104731</td>\n",
       "      \n",
       "        <td></td>\n",
       "      \n",
       "    </tr>\n",
       "  \n",
       "\n",
       "  \n",
       "</tbody>\n",
       "</table>"
      ],
      "text/plain": [
       "#<Daru::DataFrame(3x4)>\n",
       "                   ORG  CHG_SCORE        THR   DETECTED\n",
       "          0 8.85120186        0.0 56.4435082        nil\n",
       "          1 -2.8119056        0.0 56.4435082        nil\n",
       "          2 0.17768353        0.0 56.4435082        nil"
      ]
     },
     "execution_count": 50,
     "metadata": {},
     "output_type": "execute_result"
    }
   ],
   "source": [
    "rst = change_finder(data, param_r=0.001, param_order=1, param_smmoth=10)\n",
    "rst.head(3)"
   ]
  },
  {
   "cell_type": "code",
   "execution_count": null,
   "metadata": {},
   "outputs": [],
   "source": [
    "org = generate_data(rst['ORG'], type: :scatter, opts:{yaxis:'y1', name:'original', marker:{color:'gray'}})\n",
    "chs = generate_data(rst['CHG_SCORE'], type: :scatter, opts:{yaxis:'y2', name:'change score', marker:{color:'red'}})\n",
    "thr = generate_data(rst['THR'], type: :scatter, opts:{yaxis:'y2', name:'threshold', marker:{color:'blue'}})\n",
    "\n",
    "Plotly::Plot.new(\n",
    "  data:org+chs+thr,\n",
    "  layout:{ title:'Original & Change Score', xaxis: { title: 'time'},\n",
    "    yaxis:{ title:'original', range:[0,2000], side:'left'},\n",
    "    yaxis2:{ title:'change score', range:[0,100], side:'right', overlaying:'y'}}\n",
    ").show"
   ]
  },
  {
   "cell_type": "code",
   "execution_count": null,
   "metadata": {},
   "outputs": [],
   "source": [
    "org = generate_data(rst['ORG'], type: :scatter, opts:{ name:'original', marker:{color:'gray'}})\n",
    "dtc = generate_data(rst['DETECTED'], type: :scatter, opts:{ name:'detected', marker:{color:'red'}})\n",
    "\n",
    "Plotly::Plot.new(\n",
    "  data:org+dtc,\n",
    "  layout:{title:'Original & Detected', xaxis:{title:'time'},\n",
    "    yaxis:{title:'original'}}\n",
    ").show"
   ]
  },
  {
   "cell_type": "code",
   "execution_count": 90,
   "metadata": {},
   "outputs": [],
   "source": [
    "$plt.plot(rst['ORG'].to_a)\n",
    "$plt.plot(rst['DETECTED'].to_a)\n",
    "$plt.savefig(\"graph.png\")"
   ]
  },
  {
   "cell_type": "markdown",
   "metadata": {},
   "source": [
    "### LOF"
   ]
  },
  {
   "cell_type": "code",
   "execution_count": 21,
   "metadata": {},
   "outputs": [
    {
     "data": {
      "text/plain": [
       "LocalOutlierFactor(algorithm='auto', contamination=0.1, leaf_size=30,\n",
       "          metric='minkowski', metric_params=None, n_jobs=None,\n",
       "          n_neighbors=1, novelty='False', p=2)"
      ]
     },
     "execution_count": 21,
     "metadata": {},
     "output_type": "execute_result"
    }
   ],
   "source": [
    "model = LocalOutlierFactor.(n_neighbors:1,novelty: :False,contamination:0.1)"
   ]
  },
  {
   "cell_type": "code",
   "execution_count": 22,
   "metadata": {},
   "outputs": [
    {
     "data": {
      "text/plain": [
       "LocalOutlierFactor(algorithm='auto', contamination=0.1, leaf_size=30,\n",
       "          metric='minkowski', metric_params=None, n_jobs=None,\n",
       "          n_neighbors=1, novelty='False', p=2)"
      ]
     },
     "execution_count": 22,
     "metadata": {},
     "output_type": "execute_result"
    }
   ],
   "source": [
    "model.fit([data['val0'].to_a, data['val1'].to_a])"
   ]
  },
  {
   "cell_type": "code",
   "execution_count": 23,
   "metadata": {},
   "outputs": [
    {
     "data": {
      "text/plain": [
       "array([1, 1])"
      ]
     },
     "execution_count": 23,
     "metadata": {},
     "output_type": "execute_result"
    }
   ],
   "source": [
    "result = model.predict([data['val2'].to_a, data['val3'].to_a])\n"
   ]
  },
  {
   "cell_type": "code",
   "execution_count": null,
   "metadata": {},
   "outputs": [],
   "source": []
  },
  {
   "cell_type": "code",
   "execution_count": null,
   "metadata": {},
   "outputs": [],
   "source": []
  }
 ],
 "metadata": {
  "kernelspec": {
   "display_name": "Ruby 2.5.1",
   "language": "ruby",
   "name": "ruby"
  },
  "language_info": {
   "file_extension": ".rb",
   "mimetype": "application/x-ruby",
   "name": "ruby",
   "version": "2.5.1"
  }
 },
 "nbformat": 4,
 "nbformat_minor": 2
}
